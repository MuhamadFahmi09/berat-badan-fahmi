{
 "cells": [
  {
   "cell_type": "code",
   "execution_count": 17,
   "metadata": {},
   "outputs": [
    {
     "name": "stdout",
     "output_type": "stream",
     "text": [
      "Masukkan tinggi badan anda : 90\n",
      "Masukkan berat badan anda   : 190\n",
      "==================================================\n",
      "BMI= 234.5679012345679 GEMUK\n"
     ]
    }
   ],
   "source": [
    "tingcm=float(input(\"Masukkan tinggi badan anda : \"))\n",
    "berat=float(input(\"Masukkan berat badan anda   : \"))\n",
    "tingm=tingcm*0.01\n",
    "bmi = berat/(tingm**2)\n",
    "print(\"=\"*50)\n",
    "if bmi < 18.5:\n",
    "    print(\"BMI =\",bmi,\"KURUS\")\n",
    "elif bmi >=18.5 and bmi <=24.9:\n",
    "    print(\"BMI=\",bmi,\"IDEAL\")\n",
    "else:\n",
    "    print(\"BMI=\",bmi,\"GEMUK\")"
   ]
  },
  {
   "cell_type": "code",
   "execution_count": null,
   "metadata": {},
   "outputs": [],
   "source": []
  }
 ],
 "metadata": {
  "kernelspec": {
   "display_name": "Python 3",
   "language": "python",
   "name": "python3"
  },
  "language_info": {
   "codemirror_mode": {
    "name": "ipython",
    "version": 3
   },
   "file_extension": ".py",
   "mimetype": "text/x-python",
   "name": "python",
   "nbconvert_exporter": "python",
   "pygments_lexer": "ipython3",
   "version": "3.7.3"
  }
 },
 "nbformat": 4,
 "nbformat_minor": 2
}
